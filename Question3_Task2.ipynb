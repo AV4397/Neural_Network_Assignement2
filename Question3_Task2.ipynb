{
  "nbformat": 4,
  "nbformat_minor": 0,
  "metadata": {
    "colab": {
      "provenance": []
    },
    "kernelspec": {
      "name": "python3",
      "display_name": "Python 3"
    },
    "language_info": {
      "name": "python"
    }
  },
  "cells": [
    {
      "cell_type": "code",
      "execution_count": 1,
      "metadata": {
        "colab": {
          "base_uri": "https://localhost:8080/"
        },
        "id": "qtRIStyJDRek",
        "outputId": "b7a129b1-4adb-4d1d-bc90-b2c718157bc8"
      },
      "outputs": [
        {
          "output_type": "stream",
          "name": "stdout",
          "text": [
            "Original Matrix:\n",
            " [[ 1.4948387e+00 -5.2288854e-01 -1.7842920e-03  1.4273278e+00]\n",
            " [ 1.3191293e-01  4.4175467e-01  1.3161581e+00 -8.9664239e-01]\n",
            " [ 4.0462258e-01  2.8470403e-01  2.0317059e+00  7.5144988e-01]\n",
            " [-1.4731503e+00 -2.3286332e-01  1.6732984e+00  1.4867398e+00]]\n",
            "Max Pooled Matrix:\n",
            " [[1.4948387  1.4273278 ]\n",
            " [0.40462258 2.0317059 ]]\n",
            "Average Pooled Matrix:\n",
            " [[ 0.38640445  0.4612648 ]\n",
            " [-0.25417173  1.4857985 ]]\n"
          ]
        }
      ],
      "source": [
        "import tensorflow as tf\n",
        "\n",
        "# Create random 4x4 matrix\n",
        "input_matrix = tf.random.normal([1, 4, 4, 1])\n",
        "\n",
        "# Max Pooling\n",
        "max_pooled = tf.nn.max_pool2d(input_matrix, ksize=2, strides=2, padding='VALID')\n",
        "\n",
        "# Average Pooling\n",
        "avg_pooled = tf.nn.avg_pool2d(input_matrix, ksize=2, strides=2, padding='VALID')\n",
        "\n",
        "print(\"Original Matrix:\\n\", input_matrix.numpy().squeeze())\n",
        "print(\"Max Pooled Matrix:\\n\", max_pooled.numpy().squeeze())\n",
        "print(\"Average Pooled Matrix:\\n\", avg_pooled.numpy().squeeze())"
      ]
    }
  ]
}
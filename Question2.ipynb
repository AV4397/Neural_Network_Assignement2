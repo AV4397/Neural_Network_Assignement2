{
  "nbformat": 4,
  "nbformat_minor": 0,
  "metadata": {
    "colab": {
      "provenance": []
    },
    "kernelspec": {
      "name": "python3",
      "display_name": "Python 3"
    },
    "language_info": {
      "name": "python"
    }
  },
  "cells": [
    {
      "cell_type": "code",
      "execution_count": 2,
      "metadata": {
        "colab": {
          "base_uri": "https://localhost:8080/"
        },
        "id": "CP_N_ScX9lYY",
        "outputId": "4026d755-4b9a-47ff-87b8-4cb75e69664e"
      },
      "outputs": [
        {
          "output_type": "stream",
          "name": "stderr",
          "text": [
            "WARNING:tensorflow:5 out of the last 5 calls to <function TensorFlowTrainer.make_predict_function.<locals>.one_step_on_data_distributed at 0x7f00629b9d00> triggered tf.function retracing. Tracing is expensive and the excessive number of tracings could be due to (1) creating @tf.function repeatedly in a loop, (2) passing tensors with different shapes, (3) passing Python objects instead of tensors. For (1), please define your @tf.function outside of the loop. For (2), @tf.function has reduce_retracing=True option that can avoid unnecessary retracing. For (3), please refer to https://www.tensorflow.org/guide/function#controlling_retracing and https://www.tensorflow.org/api_docs/python/tf/function for  more details.\n"
          ]
        },
        {
          "output_type": "stream",
          "name": "stdout",
          "text": [
            "\u001b[1m1/1\u001b[0m \u001b[32m━━━━━━━━━━━━━━━━━━━━\u001b[0m\u001b[37m\u001b[0m \u001b[1m0s\u001b[0m 69ms/step\n"
          ]
        },
        {
          "output_type": "stream",
          "name": "stderr",
          "text": [
            "WARNING:tensorflow:6 out of the last 6 calls to <function TensorFlowTrainer.make_predict_function.<locals>.one_step_on_data_distributed at 0x7f00629b8680> triggered tf.function retracing. Tracing is expensive and the excessive number of tracings could be due to (1) creating @tf.function repeatedly in a loop, (2) passing tensors with different shapes, (3) passing Python objects instead of tensors. For (1), please define your @tf.function outside of the loop. For (2), @tf.function has reduce_retracing=True option that can avoid unnecessary retracing. For (3), please refer to https://www.tensorflow.org/guide/function#controlling_retracing and https://www.tensorflow.org/api_docs/python/tf/function for  more details.\n"
          ]
        },
        {
          "output_type": "stream",
          "name": "stdout",
          "text": [
            "\u001b[1m1/1\u001b[0m \u001b[32m━━━━━━━━━━━━━━━━━━━━\u001b[0m\u001b[37m\u001b[0m \u001b[1m0s\u001b[0m 57ms/step\n",
            "\u001b[1m1/1\u001b[0m \u001b[32m━━━━━━━━━━━━━━━━━━━━\u001b[0m\u001b[37m\u001b[0m \u001b[1m0s\u001b[0m 57ms/step\n",
            "\u001b[1m1/1\u001b[0m \u001b[32m━━━━━━━━━━━━━━━━━━━━\u001b[0m\u001b[37m\u001b[0m \u001b[1m0s\u001b[0m 59ms/step\n",
            "Stride=1 Padding=VALID:\n",
            " [[0. 0. 0.]\n",
            " [0. 0. 0.]\n",
            " [0. 0. 0.]]\n",
            "\n",
            "Stride=1 Padding=SAME:\n",
            " [[  4.   3.   2.   1.  -6.]\n",
            " [ -5.   0.   0.   0. -11.]\n",
            " [-10.   0.   0.   0. -16.]\n",
            " [-15.   0.   0.   0. -21.]\n",
            " [-46. -27. -28. -29. -56.]]\n",
            "\n",
            "Stride=2 Padding=VALID:\n",
            " [[0. 0.]\n",
            " [0. 0.]]\n",
            "\n",
            "Stride=2 Padding=SAME:\n",
            " [[  4.   2.  -6.]\n",
            " [-10.   0. -16.]\n",
            " [-46. -28. -56.]]\n"
          ]
        }
      ],
      "source": [
        "import numpy as np\n",
        "from tensorflow.keras.models import Sequential\n",
        "from tensorflow.keras.layers import Conv2D\n",
        "\n",
        "# Define the 5x5 input matrix\n",
        "input_matrix = np.array([[1, 2, 3, 4, 5],\n",
        "                         [6, 7, 8, 9, 10],\n",
        "                         [11, 12, 13, 14, 15],\n",
        "                         [16, 17, 18, 19, 20],\n",
        "                         [21, 22, 23, 24, 25]]).reshape(1, 5, 5, 1)\n",
        "\n",
        "# Define the 3x3 kernel\n",
        "kernel = np.array([[0, 1, 0],\n",
        "                   [1, -4, 1],\n",
        "                   [0, 1, 0]])\n",
        "\n",
        "# Function to perform convolution with specified parameters\n",
        "def perform_convolution(input_matrix, kernel_weights, kernel_size=(3,3), strides=(1,1), padding='valid'):\n",
        "    # Create a sequential model with a Conv2D layer\n",
        "    model = Sequential([\n",
        "        Conv2D(1,\n",
        "               kernel_size=kernel_size,\n",
        "               strides=strides,\n",
        "               padding=padding,\n",
        "               use_bias=False,\n",
        "               input_shape=(5,5,1))\n",
        "    ])\n",
        "\n",
        "    # Set the kernel weights for the Conv2D layer\n",
        "    model.layers[0].set_weights([kernel_weights.reshape(3,3,1,1)])\n",
        "\n",
        "    # Perform the convolution and return the result\n",
        "    return model.predict(input_matrix).squeeze()\n",
        "\n",
        "# Perform convolutions with different stride and padding settings\n",
        "output_valid_stride_1 = perform_convolution(input_matrix, kernel)\n",
        "output_same_stride_1 = perform_convolution(input_matrix, kernel, padding='same')\n",
        "output_valid_stride_2 = perform_convolution(input_matrix, kernel, strides=(2,2))\n",
        "output_same_stride_2 = perform_convolution(input_matrix, kernel, strides=(2,2), padding='same')\n",
        "\n",
        "# Print the results\n",
        "print(\"Stride=1 Padding=VALID:\\n\", output_valid_stride_1)\n",
        "print(\"\\nStride=1 Padding=SAME:\\n\", output_same_stride_1)\n",
        "print(\"\\nStride=2 Padding=VALID:\\n\", output_valid_stride_2)\n",
        "print(\"\\nStride=2 Padding=SAME:\\n\", output_same_stride_2)\n"
      ]
    }
  ]
}